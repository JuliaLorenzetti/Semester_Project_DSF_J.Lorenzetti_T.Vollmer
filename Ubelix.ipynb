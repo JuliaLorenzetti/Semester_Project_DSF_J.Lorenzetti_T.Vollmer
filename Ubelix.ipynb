{
  "nbformat": 4,
  "nbformat_minor": 0,
  "metadata": {
    "colab": {
      "name": "Untitled2.ipynb",
      "provenance": [],
      "authorship_tag": "ABX9TyOH3sw83WV193uydfr8HZWA",
      "include_colab_link": true
    },
    "kernelspec": {
      "name": "python3",
      "display_name": "Python 3"
    },
    "language_info": {
      "name": "python"
    }
  },
  "cells": [
    {
      "cell_type": "markdown",
      "metadata": {
        "id": "view-in-github",
        "colab_type": "text"
      },
      "source": [
        "<a href=\"https://colab.research.google.com/github/TillVollmer5/Semester_Project_DSF_J.Lorenzetti_T.Vollmer/blob/main/Ubelix.ipynb\" target=\"_parent\"><img src=\"https://colab.research.google.com/assets/colab-badge.svg\" alt=\"Open In Colab\"/></a>"
      ]
    },
    {
      "cell_type": "markdown",
      "source": [
        "# Ubelix 1\n",
        "This notebook section documents the process of running a *Hellow world* phyton script on Ubelix."
      ],
      "metadata": {
        "id": "dpUjiKW_ppti"
      }
    },
    {
      "cell_type": "markdown",
      "source": [
        "logging into ubelix with campus account via PuTTY ssh\\n\n",
        "\n",
        "call editor on linux and open a job submission file with nano job-x.sh\n",
        "\n",
        "write the following script into the job-x.sh file (the code is from the example Hello world task displayed on the introduction page of Ubelix)"
      ],
      "metadata": {
        "id": "qZsi0cNUExuR"
      }
    },
    {
      "cell_type": "code",
      "execution_count": null,
      "metadata": {
        "id": "Aq8d3Wmopo94"
      },
      "outputs": [],
      "source": [
        "#!/bin/bash\n",
        "#SBATCH --ntasks=1\n",
        "#SBATCH --cpus-per-task=1\n",
        "#SBATCH --mem-per-cpu=1GB\n",
        "\n",
        "module load Workspace_Home\n",
        "mkdir -p $SCRATCH/my_first_job\n",
        "cd $SCRATCH/my_first_job\n",
        "echo \"Hello, UBELIX from node $(hostname)\" > hello.txt"
      ]
    },
    {
      "cell_type": "markdown",
      "source": [
        "This created a file called hello.txt. Due to the \n",
        "\n",
        "```\n",
        "mkdir -p $SCRATCH/my_first_job\n",
        "cd $SCRATCH/my_first_job\n",
        "```\n",
        "commands in the script, we were unable to find the file, as it was located in a different directrory. Upon further investigation and help by Sacha Javor we were able to locate the probleme and find the file using the following commands:"
      ],
      "metadata": {
        "id": "ewr1aCHlLJJn"
      }
    },
    {
      "cell_type": "code",
      "source": [
        "ls\n",
        "module load Workspace_Home\n",
        "cd $SCRATCH/hello-world\n",
        "ls"
      ],
      "metadata": {
        "id": "1lwtI0RzMhAe"
      },
      "execution_count": null,
      "outputs": []
    },
    {
      "cell_type": "markdown",
      "source": [
        "Contetn of the final hello.txt file:\n"
      ],
      "metadata": {
        "id": "duPmTLYzNBL8"
      }
    },
    {
      "cell_type": "markdown",
      "source": [
        "# Ubelix 2\n",
        "This notebook section displays the process of the creating the production MD (on CPU and GPU)."
      ],
      "metadata": {
        "id": "4RxcFAkeqCy_"
      }
    },
    {
      "cell_type": "markdown",
      "source": [
        "GROMACS was pre installed on Ubelix, which was determined using the command:\n",
        "\n",
        "```\n",
        "module avail\n",
        "```\n",
        "In order to start the production run, the .mdp file provided by Sacha Javor was uploaded on Ubelix using Filezilla. All the previously prepared files from Tutorial 1 were uploaded as well."
      ],
      "metadata": {
        "id": "U3WvizeINJm6"
      }
    },
    {
      "cell_type": "code",
      "source": [
        ""
      ],
      "metadata": {
        "id": "gECdVuBhqZuc"
      },
      "execution_count": null,
      "outputs": []
    }
  ]
}