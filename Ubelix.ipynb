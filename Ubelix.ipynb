{
  "nbformat": 4,
  "nbformat_minor": 0,
  "metadata": {
    "colab": {
      "name": "Untitled2.ipynb",
      "provenance": [],
      "authorship_tag": "ABX9TyOYTSb3eKyU6YPC97sosvF8",
      "include_colab_link": true
    },
    "kernelspec": {
      "name": "python3",
      "display_name": "Python 3"
    },
    "language_info": {
      "name": "python"
    }
  },
  "cells": [
    {
      "cell_type": "markdown",
      "metadata": {
        "id": "view-in-github",
        "colab_type": "text"
      },
      "source": [
        "<a href=\"https://colab.research.google.com/github/TillVollmer5/Semester_Project_DSF_J.Lorenzetti_T.Vollmer/blob/main/Ubelix.ipynb\" target=\"_parent\"><img src=\"https://colab.research.google.com/assets/colab-badge.svg\" alt=\"Open In Colab\"/></a>"
      ]
    },
    {
      "cell_type": "markdown",
      "source": [
        "# Ubelix 1\n",
        "This notebook section documents the process of running a *Hellow world* phyton script on Ubelix."
      ],
      "metadata": {
        "id": "dpUjiKW_ppti"
      }
    },
    {
      "cell_type": "markdown",
      "source": [
        "logging into ubelix with campus account via PuTTY ssh\\n\n",
        "\n",
        "call editor on linux and open a job submission file with nano job-x.sh\n",
        "\n",
        "write the following script into the job-x.sh file (the code is from the example Hello world task displayed on the introduction page of Ubelix)"
      ],
      "metadata": {
        "id": "qZsi0cNUExuR"
      }
    },
    {
      "cell_type": "code",
      "execution_count": null,
      "metadata": {
        "id": "Aq8d3Wmopo94"
      },
      "outputs": [],
      "source": [
        "#!/bin/bash\n",
        "#SBATCH --ntasks=1\n",
        "#SBATCH --cpus-per-task=1\n",
        "#SBATCH --mem-per-cpu=1GB\n",
        "\n",
        "module load Workspace_Home\n",
        "mkdir -p $SCRATCH/my_first_job\n",
        "cd $SCRATCH/my_first_job\n",
        "echo \"Hello, UBELIX from node $(hostname)\" > hello.txt"
      ]
    },
    {
      "cell_type": "markdown",
      "source": [
        "This created a file called hello.txt. Due to the \n",
        "\n",
        "```\n",
        "mkdir -p $SCRATCH/my_first_job\n",
        "cd $SCRATCH/my_first_job\n",
        "```\n",
        "commands in the script, we were unable to find the file, as it was located in a different directrory. Upon further investigation and help by Sacha Javor we were able to locate the probleme and find the file using the following commands:"
      ],
      "metadata": {
        "id": "ewr1aCHlLJJn"
      }
    },
    {
      "cell_type": "code",
      "source": [
        "ls\n",
        "module load Workspace_Home\n",
        "cd $SCRATCH/hello-world\n",
        "ls"
      ],
      "metadata": {
        "id": "1lwtI0RzMhAe"
      },
      "execution_count": null,
      "outputs": []
    },
    {
      "cell_type": "markdown",
      "source": [
        "Contetn of the final hello.txt file:\n"
      ],
      "metadata": {
        "id": "duPmTLYzNBL8"
      }
    },
    {
      "cell_type": "markdown",
      "source": [
        "# Ubelix 2\n",
        "This notebook section displays the process of the creating the production MD (on CPU and GPU)."
      ],
      "metadata": {
        "id": "4RxcFAkeqCy_"
      }
    },
    {
      "cell_type": "markdown",
      "source": [
        "GROMACS was pre installed on Ubelix, which was determined using the command:\n",
        "\n",
        "```\n",
        "module avail\n",
        "```\n",
        "In order to start the production run, the .mdp file provided by Sacha Javor was uploaded on Ubelix using Filezilla. All the previously prepared files from Tutorial 1 were uploaded as well.\n",
        "Using the following command, a shell was created containing the lines that should be executed during the production run.\n",
        "\n",
        "```\n",
        "nano file name.sh\n",
        "```\n",
        "\n",
        "The commands inserted into the file for the production run on CPU is as followed:"
      ],
      "metadata": {
        "id": "U3WvizeINJm6"
      }
    },
    {
      "cell_type": "code",
      "source": [
        "#!/bin/bash\n",
        "#SBATCH --ntasks=1\n",
        "#SBATCH --cpus-per-task=1\n",
        "#SBATCH --mem-per-cpu=1GB\n",
        "\n",
        "\n",
        "activate GROMACS\n",
        "gmx grompp -f md.mdp -c ntp.gro -t npt.cpt -p topol.top -o md_0_1.trp\n",
        "gmx mdrun -deffnm md_0_1"
      ],
      "metadata": {
        "id": "gECdVuBhqZuc"
      },
      "execution_count": null,
      "outputs": []
    },
    {
      "cell_type": "markdown",
      "source": [
        "The shell file for the production run on GPU is displayed below."
      ],
      "metadata": {
        "id": "e7RddaZ1sypr"
      }
    },
    {
      "cell_type": "code",
      "source": [
        "#!/bin/bash\n",
        "#SBATCH --ntasks=1\n",
        "#SBATCH --cpus-per-task=1\n",
        "#SBATCH --mem-per-cpu=1GB\n",
        "\n",
        "\n",
        "activate GROMACS\n",
        "gmx grompp -f md.mdp -c ntp.gro -t npt.cpt -p topol.top -o md_0_1.trp\n",
        "gmx mdrun -deffnm md_0_1 -nb gpu"
      ],
      "metadata": {
        "id": "rqRPBmMts6GE"
      },
      "execution_count": null,
      "outputs": []
    },
    {
      "cell_type": "markdown",
      "source": [
        "The jobs were submitted using the command:\n",
        "\n",
        "```\n",
        "sbatch filename.sh\n",
        "```\n",
        "\n",
        "The job que was controlled using the command:\n",
        "\n",
        "```\n",
        "squeue --user=jl19........\n",
        "```\n",
        "\n",
        "... houres were required to finisch the job which yielded the following files:\n",
        "\n",
        "\n",
        "\n",
        "\n",
        "\n",
        "*For the analysis of the molecular dynamics caluculation and the commparison of the CPU and the GPU run please reffere to the notebook: Tutorial 2*"
      ],
      "metadata": {
        "id": "6KPcKUGctE3Q"
      }
    }
  ]
}