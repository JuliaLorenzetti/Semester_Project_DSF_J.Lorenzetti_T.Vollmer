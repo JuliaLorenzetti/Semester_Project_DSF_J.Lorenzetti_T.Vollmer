{
  "nbformat": 4,
  "nbformat_minor": 0,
  "metadata": {
    "colab": {
      "name": "Untitled2.ipynb",
      "provenance": [],
      "include_colab_link": true
    },
    "kernelspec": {
      "name": "python3",
      "display_name": "Python 3"
    },
    "language_info": {
      "name": "python"
    }
  },
  "cells": [
    {
      "cell_type": "markdown",
      "metadata": {
        "id": "view-in-github",
        "colab_type": "text"
      },
      "source": [
        "<a href=\"https://colab.research.google.com/github/JuliaLorenzetti/Semester_Project_DSF_J.Lorenzetti_T.Vollmer/blob/main/Ubelix.ipynb\" target=\"_parent\"><img src=\"https://colab.research.google.com/assets/colab-badge.svg\" alt=\"Open In Colab\"/></a>"
      ]
    },
    {
      "cell_type": "markdown",
      "source": [
        "# Ubelix 1\n",
        "This notebook section documents the process of running a *Hello world* python script on Ubelix.\n",
        "\n",
        "logging into ubelix with campus account via ssh (PuTTY or Anaconda Powershell Prompt) with ssh username.submit.unibe.ch and the corresponding password\n",
        "\n",
        "call editor on linux and open a job submission file with nano hello-world.sh\n",
        "\n",
        "write the script into the hello-world.sh file (script from https://hpc-unibe-ch.github.io/quick-start.html)\n",
        "save file with CTRL-O\n",
        "\n",
        "submit the job with sbatch hello-world.sh\n",
        "an identification number for the job is obtained (submitted batch job 25297708)\n",
        "\n"
      ],
      "metadata": {
        "id": "dpUjiKW_ppti"
      }
    },
    {
      "cell_type": "code",
      "execution_count": null,
      "metadata": {
        "id": "Aq8d3Wmopo94"
      },
      "outputs": [],
      "source": [
        ""
      ]
    },
    {
      "cell_type": "markdown",
      "source": [
        "# Ubelix 2\n",
        "This notebook section displays the process of the creating the production MD (on CPU and GPU)."
      ],
      "metadata": {
        "id": "4RxcFAkeqCy_"
      }
    },
    {
      "cell_type": "code",
      "source": [
        ""
      ],
      "metadata": {
        "id": "gECdVuBhqZuc"
      },
      "execution_count": null,
      "outputs": []
    }
  ]
}