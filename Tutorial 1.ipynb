{
  "nbformat": 4,
  "nbformat_minor": 0,
  "metadata": {
    "colab": {
      "name": "Untitled1.ipynb",
      "provenance": [],
      "authorship_tag": "ABX9TyNPUoTt9Nxllx+T++FY7fas",
      "include_colab_link": true
    },
    "kernelspec": {
      "name": "python3",
      "display_name": "Python 3"
    },
    "language_info": {
      "name": "python"
    }
  },
  "cells": [
    {
      "cell_type": "markdown",
      "metadata": {
        "id": "view-in-github",
        "colab_type": "text"
      },
      "source": [
        "<a href=\"https://colab.research.google.com/github/TillVollmer5/Semester_Project_DSF_J.Lorenzetti_T.Vollmer/blob/main/Tutorial%201.ipynb\" target=\"_parent\"><img src=\"https://colab.research.google.com/assets/colab-badge.svg\" alt=\"Open In Colab\"/></a>"
      ]
    },
    {
      "cell_type": "markdown",
      "source": [
        "# Tutorial 1\n",
        "This notebook serves as documentation for the downloading and the processing steps of the PDB."
      ],
      "metadata": {
        "id": "BzjCSHBEo4r1"
      }
    },
    {
      "cell_type": "markdown",
      "source": [
        "*Transfering of the .pdb file:*\n",
        "\n",
        "A connection was established using PuTTY, by inserting the IP adress, port 22 group name and the password.\n",
        "The Chemzilla server was accessed using RDB (Windows), after connection was established the .pdb file was transfered to the server using filezilla (IP adress, username, password and port: 22 was used to connect to the server).\n",
        "For the molecular dynamics calculation, the linux terminal on the Chemzilla server was used in combination with the GROMACS programm and a precleaned PDB file provided by Sacha Javor.\n",
        "\n",
        "*Applying force field:*\n",
        "\n",
        "First we changed the directory to the desktop, in which we were working, using the command:\n",
        "\n",
        "```\n",
        "# cd Desktop\n",
        "```\n",
        "\n",
        "The force field was applied using the command:\n",
        "\n",
        "```\n",
        "# gmx pdb2gmx -f 1hvh.pdb-cleaned.pdb -o 1hvh_processed.gro -water spce\n",
        "```\n",
        "\n",
        "The command opens a menu which show different force fields. We applied the all-atom OPLS force field (Option 15). This yielded new files that will be used in the next steps.\n",
        "The contents of the topology files was examined.\n",
        "\n",
        "**EXPLAIN THE FILES!!!!!**\n",
        "\n",
        "*Solvation:*\n",
        "\n",
        "A box was defined using the editconf comand displayed in the following command:\n",
        "\n",
        "```\n",
        "# gmx editconf -f 1hvh_processed.gro -o 1hvh_newbox.gro -c -d 1.0 -bt cubic\n",
        "```\n",
        "\n",
        "The protein is now centered in a cube with a minimum distance of 1 nm distance to the to the protein.\n",
        "For the following solvation step, this command was used:\n",
        "\n",
        "```\n",
        "# gmx solvate -cp 1hvh_newbox.gro -cs spc216.gro -o 1hvh_solv.gro -p topol.top\n",
        "```\n",
        "\n",
        "This yielded a file named '1hvh_solv.gro', which shows how much water was added and hence shows the topology changes due to the addition of the water.\n",
        "\n",
        "*Adding Ions:*\n",
        "\n",
        "In this step, the charges are addabted, by first creating a .tpr file from the 1hvh_solf.gro, topol.top and ions.mdp file, which was downloaded from a link provided in the tutorial. This was done using the following command:\n",
        "\n",
        "```\n",
        "# gmx grompp -f ions.mdp -c 1hvh_solv.gro -p topol.top -o ions.tpr\n",
        "```\n",
        "\n",
        "The ions were added using the following command, which yields the file 1hvh_solv_ions.gro:\n",
        "\n",
        "\n",
        "```\n",
        "# gmx genion -s ions.tpr -o 1hvh_solv_ions.gro -p topol.top -pname NA -nname CL -neutral\n",
        "```\n",
        "\n",
        "\n",
        "*Energy minimalization:*\n",
        "\n",
        "The following command was used to introduce the imput parameters (provided in the tutorial) for the energy minimization:\n",
        "\n",
        "```\n",
        "# gmx grompp -f minim.mdp -c 1hvh_solv_ions.gro -p topol.top -o em.tpr\n",
        "```\n",
        "\n",
        "This command creats a file named em.tpr. In the next step, the energy minimization was done, by executing the command:\n",
        "\n",
        "```\n",
        "# gmx mdrun -v -deffnm em\n",
        "```\n",
        "\n",
        "This yielded several new files.\n",
        "\n",
        "**Insert the plot as displayed in the tutorial**\n",
        "\n",
        "*Equilibration:*\n",
        "\n",
        "The equilibation was first done for temperature using the following two commands (the .mdp file was provided in the tutorial):\n",
        "\n",
        "```\n",
        "# gmx grompp -f nvt.mdp -c em.gro -r em.gro -p topol.top -o nvt.tpr\n",
        "# gmx ndrun -deffnm nvt\n",
        "```\n",
        "\n",
        "This step required about 10 min to complete. First we did not finish the calculation, as we thought that a probleme occured, hence we did not obtain the new file used in the next steps.\n",
        "\n",
        "**insert plot from xm grace**\n",
        "\n",
        "The second equilibration was done for pressure, using these commands (.mdp file was provided in the tutorial):\n",
        "\n",
        "```\n",
        "# gmx grompp -f nvt.mdp -c em.gro -r em.gro -p topol.top -o nvt.tpr\n",
        "# gmx mdrun -deffnm npt\n",
        "```\n",
        "\n",
        "Similar to the temperature equilibration, this step took a few minutes to process.\n",
        "\n",
        "**insert plot form xm grace**\n",
        "\n",
        "*Next steps of the tutorial, mainly the production run on CPU and GPU and the following analysis of the data, are documented in the notebook called: Tutorial 2*\n",
        "\n",
        "\n"
      ],
      "metadata": {
        "id": "HaeGPfjM5T-C"
      }
    }
  ]
}