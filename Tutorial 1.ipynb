{
  "nbformat": 4,
  "nbformat_minor": 0,
  "metadata": {
    "colab": {
      "name": "Untitled1.ipynb",
      "provenance": [],
      "authorship_tag": "ABX9TyMIi+jWV18GvT5zjW8x+lmY",
      "include_colab_link": true
    },
    "kernelspec": {
      "name": "python3",
      "display_name": "Python 3"
    },
    "language_info": {
      "name": "python"
    }
  },
  "cells": [
    {
      "cell_type": "markdown",
      "metadata": {
        "id": "view-in-github",
        "colab_type": "text"
      },
      "source": [
        "<a href=\"https://colab.research.google.com/github/TillVollmer5/Semester_Project_DSF_J.Lorenzetti_T.Vollmer/blob/main/Tutorial%201.ipynb\" target=\"_parent\"><img src=\"https://colab.research.google.com/assets/colab-badge.svg\" alt=\"Open In Colab\"/></a>"
      ]
    },
    {
      "cell_type": "markdown",
      "source": [
        "# Tutorial 1\n",
        "This notebook serves as documentation for the downloading and the processing steps of the PDB."
      ],
      "metadata": {
        "id": "BzjCSHBEo4r1"
      }
    },
    {
      "cell_type": "markdown",
      "source": [
        "*Transfering of the .pdb file:*\n",
        "\n",
        "A connection was established using PuTTY, by inserting the IP adress, port 22 group name and the password.\n",
        "The Chemzilla server was accessed using RDB (Windows), after connection was established the .pdb file was transfered to the server using filezilla (IP adress, username, password and port: 22 was used to connect to the server).\n",
        "\n",
        "*Applying force field:*\n",
        "\n",
        "First we changed the directory to the desktop, in which we were wokin using the command:\n",
        "\n",
        "\n",
        "```\n",
        "# cd Desktop\n",
        "```\n",
        "\n",
        "The force field was applied using the command:\n",
        "\n",
        "```\n",
        "# gmx pdb2gmx -f 1hvh.pdb-cleaned.pdb -o 1hvh_processed.gro -water spce\n",
        "```\n",
        "\n",
        "The command opens a menu which show different force fields. We applied the all-atom OPLS force field (Option 15). This yielded new files that will be used in the next steps.\n",
        "The contents of the topology files was examined.\n",
        "\n",
        "*Solvation:*\n",
        "\n",
        "*Adding Ions:*\n",
        "\n",
        "*Energy minimalization:*\n",
        "\n",
        "*Equilibration:*\n",
        "\n"
      ],
      "metadata": {
        "id": "HaeGPfjM5T-C"
      }
    },
    {
      "cell_type": "code",
      "execution_count": null,
      "metadata": {
        "id": "4DTKEK9ro3v7"
      },
      "outputs": [],
      "source": [
        ""
      ]
    }
  ]
}